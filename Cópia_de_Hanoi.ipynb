{
  "nbformat": 4,
  "nbformat_minor": 0,
  "metadata": {
    "colab": {
      "provenance": [],
      "include_colab_link": true
    },
    "kernelspec": {
      "name": "python3",
      "display_name": "Python 3"
    },
    "language_info": {
      "name": "python"
    }
  },
  "cells": [
    {
      "cell_type": "markdown",
      "metadata": {
        "id": "view-in-github",
        "colab_type": "text"
      },
      "source": [
        "<a href=\"https://colab.research.google.com/github/Andluiz-silva/Programa-o-1-/blob/main/C%C3%B3pia_de_Hanoi.ipynb\" target=\"_parent\"><img src=\"https://colab.research.google.com/assets/colab-badge.svg\" alt=\"Open In Colab\"/></a>"
      ]
    },
    {
      "cell_type": "markdown",
      "source": [
        "Aluno:Wilton Severo dos Santos"
      ],
      "metadata": {
        "id": "OCM7UwLIGFfx"
      }
    },
    {
      "cell_type": "code",
      "source": [
        "#Feito por Wilton, Andre Luiz\n",
        "import random\n",
        "int = acerto = 0\n",
        "quiz = [['Qual símbolo é usado para comentários de uma linha em Python?',['a','b','c','d'],['//','#','/*','--'],\"#\"],\n",
        "        ['Qual função é usada para imprimir texto na tela em Python?',['a','b','c','d'],['show()','display()','console.log()','print()'],'print()'],\n",
        "        ['Qual estrutura de dados em Python é mais semelhante a um array em outras linguagens?',['a','b','c','d'],['Tupla','Dicionário','Array','Set'],'Array'],\n",
        "        ['Qual palavra-chave é usada para definir uma função em Python?',['a','b','c','d'],['function','def','func','define'],'def'],\n",
        "        ['Qual operador é usado para verificar igualdade em Python?',['a','b','c','d'],['=','===','==','.equals()'],'==']\n",
        "        ]\n",
        "random.shuffle(quiz)\n",
        "for i in range(len(quiz)):\n",
        "    print(quiz[i][0])\n",
        "    for j in range(len(quiz[i][1])):\n",
        "        print(quiz[i][1][j], quiz[i][2][j])\n",
        "    r = input(\"Qual a alternativa correta?\")\n",
        "    if(r == quiz[i][3]):\n",
        "        acerto += 1\n",
        "print(f\"Parabens você finalizou o quiz \\n voçê acertou {acerto}/5\")"
      ],
      "metadata": {
        "colab": {
          "base_uri": "https://localhost:8080/"
        },
        "id": "zs1U5xQ8mT4W",
        "outputId": "0bf14183-b44f-4283-85c3-f7bfb15b778f"
      },
      "execution_count": null,
      "outputs": [
        {
          "output_type": "stream",
          "name": "stdout",
          "text": [
            "Qual função é usada para imprimir texto na tela em Python?\n",
            "a show()\n",
            "b display()\n",
            "c console.log()\n",
            "d print()\n",
            "Qual a alternativa correta?print()\n",
            "Qual estrutura de dados em Python é mais semelhante a um array em outras linguagens?\n",
            "a Tupla\n",
            "b Dicionário\n",
            "c Array\n",
            "d Set\n",
            "Qual a alternativa correta?Array\n",
            "Qual palavra-chave é usada para definir uma função em Python?\n",
            "a function\n",
            "b def\n",
            "c func\n",
            "d define\n",
            "Qual a alternativa correta?func\n",
            "Qual operador é usado para verificar igualdade em Python?\n",
            "a =\n",
            "b ===\n",
            "c ==\n",
            "d .equals()\n",
            "Qual a alternativa correta?==\n",
            "Qual símbolo é usado para comentários de uma linha em Python?\n",
            "a //\n",
            "b #\n",
            "c /*\n",
            "d --\n",
            "Qual a alternativa correta?#\n",
            "Parabens você finalizou o quiz \n",
            " voçê acertou 4/5\n"
          ]
        }
      ]
    },
    {
      "cell_type": "code",
      "source": [
        "import random\n",
        "b = \"b\"\n",
        "d = \"d\"\n",
        "c = \"c\"\n",
        "int = acerto = 0\n",
        "p1 = print(\"1. Qual símbolo é usado para comentários de uma linha em Python? \\n a) //  \\n b) #  \\n c) /* \\n d) --  \\n\")\n",
        "r1 = input(\"Qual a alternativa correta?\")\n",
        "if(r1 == b):\n",
        "   acerto += 1\n",
        "print(\"proxima pergunta\")\n",
        "p2 = print(\"2. Qual função é usada para imprimir texto na tela em Python? \\n a) show()  \\n b) display()  \\n c) console.log() \\n d) print()  \\n\")\n",
        "r2 = input(\"Qual a alternativa correta?\")\n",
        "if(r2 == d):\n",
        "    acerto += 1\n",
        "print(\"proxima pergunta\")\n",
        "p3 = print(\"3. Qual estrutura de dados em Python é mais semelhante a um array em outras linguagens?  \\na) Tupla \\n b) Dicionário \\n c) Array \\n d) Set \\n\")\n",
        "r3 = input(\"Qual a alternativa correta?\")\n",
        "if(r3 == c):\n",
        "     acerto += 1\n",
        "print(\"proxima pergunta\")\n",
        "p4 = print(\"4. Qual palavra-chave é usada para definir uma função em Python?  \\n a) function \\n b) def \\n c) func \\n d) define \\n\")\n",
        "r4 = input(\"Qual a alternativa correta?\")\n",
        "if(r4 == d):\n",
        "    acerto += 1\n",
        "print(\"proxima pergunta\")\n",
        "p5 = print(\"5. Qual operador é usado para verificar igualdade em Python? \\n a) = \\n b) === \\n c) == \\n d) .equals() \\n \")\n",
        "r5 = input(\"Qual a alternativa correta?\")\n",
        "if(r5 == c):\n",
        "   acerto += 1\n",
        "print(f\"Parabens você finalizou o quiz \\n voçê acertou {acerto}/5\")\n"
      ],
      "metadata": {
        "id": "Ozi9Xl5WGK3Z"
      },
      "execution_count": null,
      "outputs": []
    }
  ]
}